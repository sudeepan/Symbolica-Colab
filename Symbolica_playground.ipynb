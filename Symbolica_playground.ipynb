{
  "cells": [
    {
      "cell_type": "markdown",
      "metadata": {
        "id": "view-in-github",
        "colab_type": "text"
      },
      "source": [
        "<a href=\"https://colab.research.google.com/github/sudeepan/Symbolica-Colab/blob/main/Symbolica_playground.ipynb\" target=\"_parent\"><img src=\"https://colab.research.google.com/assets/colab-badge.svg\" alt=\"Open In Colab\"/></a>"
      ]
    },
    {
      "cell_type": "markdown",
      "metadata": {
        "id": "vDDJr5xz8weZ"
      },
      "source": [
        "<p align=\"left\"><img src=\"https://symbolica.io/icon.svg\" width=\"150px\"></p>"
      ]
    },
    {
      "cell_type": "markdown",
      "metadata": {
        "id": "oP-gNosu8wea"
      },
      "source": [
        "## Setup"
      ]
    },
    {
      "cell_type": "code",
      "execution_count": null,
      "metadata": {
        "colab": {
          "base_uri": "https://localhost:8080/"
        },
        "id": "EI8XDyef8web",
        "outputId": "04965d43-6c67-474a-d93e-b26b6f318056"
      },
      "outputs": [
        {
          "output_type": "stream",
          "name": "stdout",
          "text": [
            "Requirement already satisfied: symbolica in /usr/local/lib/python3.10/dist-packages (0.1.1)\n"
          ]
        }
      ],
      "source": [
        "!pip install symbolica\n",
        "from IPython.display import Markdown as md\n",
        "from symbolica import set_license_key\n",
        "\n",
        "# do not use this key in your own setup\n",
        "# rather: get a license easily at https://symbolica.io/docs/get_started.html#license\n",
        "set_license_key('gcolab-demo-key-do-not-use-elsewhere')"
      ]
    },
    {
      "cell_type": "markdown",
      "metadata": {
        "id": "tBbqLffE8web"
      },
      "source": [
        "## Introduction\n"
      ]
    },
    {
      "cell_type": "markdown",
      "source": [
        "Symbolica is a new computer algebra system that aims to handle expressions with billions of terms, while at the same time being easy to use. It has APIs for Python, Rust and C++.\n",
        "\n",
        "In this Jupyter notebook we will explore some features of Symbolica."
      ],
      "metadata": {
        "id": "kU6WElUqp_Qy"
      }
    },
    {
      "cell_type": "markdown",
      "metadata": {
        "id": "P0flXX798web"
      },
      "source": [
        "--------------"
      ]
    },
    {
      "cell_type": "markdown",
      "metadata": {
        "id": "2mKIZzog8web"
      },
      "source": [
        "Declare a variable and a function"
      ]
    },
    {
      "cell_type": "code",
      "execution_count": null,
      "metadata": {
        "id": "amg64Q2H8web"
      },
      "outputs": [],
      "source": [
        "from symbolica import Expression\n",
        "\n",
        "x = Expression.var('x')\n",
        "f = Expression.fun('f')"
      ]
    },
    {
      "cell_type": "markdown",
      "metadata": {
        "id": "EJCIi0Ij8wec"
      },
      "source": [
        "Create a new expression by composing variables, functions, and numbers"
      ]
    },
    {
      "cell_type": "code",
      "execution_count": null,
      "metadata": {
        "colab": {
          "base_uri": "https://localhost:8080/"
        },
        "id": "hSLcwEUT8wec",
        "outputId": "d743abdd-dc2a-42b0-c895-4063f2f5e552"
      },
      "outputs": [
        {
          "output_type": "stream",
          "name": "stdout",
          "text": [
            "f(x)+4\n"
          ]
        }
      ],
      "source": [
        "e = f(x) + 4\n",
        "print(e)"
      ]
    },
    {
      "cell_type": "markdown",
      "metadata": {
        "id": "O5Bu8zRH8wec"
      },
      "source": [
        "Expressions can also be parsed, with liberal parsing rules"
      ]
    },
    {
      "cell_type": "code",
      "execution_count": null,
      "metadata": {
        "id": "8d_KqQxO8wec",
        "colab": {
          "base_uri": "https://localhost:8080/"
        },
        "outputId": "ffc769f8-6d15-470d-c4d3-28960ea7d5bb"
      },
      "outputs": [
        {
          "output_type": "stream",
          "name": "stdout",
          "text": [
            "5*(x+y)^2+f(x,y)+1123456\n"
          ]
        }
      ],
      "source": [
        "e = Expression.parse('f(x,y)+ 5 (x + y)^2 + 1_123_456')\n",
        "print(e)"
      ]
    },
    {
      "cell_type": "markdown",
      "metadata": {
        "id": "VV6DNFcX8wec"
      },
      "source": [
        "The output format can be easily changed"
      ]
    },
    {
      "cell_type": "code",
      "execution_count": null,
      "metadata": {
        "id": "vEADlYLt8wed",
        "colab": {
          "base_uri": "https://localhost:8080/",
          "height": 50
        },
        "outputId": "6ef255b4-fafd-4176-8931-2ee4ffafd5e5"
      },
      "outputs": [
        {
          "output_type": "execute_result",
          "data": {
            "text/plain": [
              "<IPython.core.display.Markdown object>"
            ],
            "text/markdown": "$$5 (x+y)^{2}+f(x,y)+1123456$$"
          },
          "metadata": {},
          "execution_count": 5
        }
      ],
      "source": [
        "md(e.to_latex())"
      ]
    },
    {
      "cell_type": "markdown",
      "metadata": {
        "id": "hRPrBx278wed"
      },
      "source": [
        "## Pattern matching"
      ]
    },
    {
      "cell_type": "markdown",
      "metadata": {
        "id": "bsPSfWV_8wed"
      },
      "source": [
        "Replace all occurrences of $x$ in $x f(x, 1, y^x)$ by 5"
      ]
    },
    {
      "cell_type": "code",
      "execution_count": null,
      "metadata": {
        "id": "vv8Q7m7M8wed",
        "colab": {
          "base_uri": "https://localhost:8080/",
          "height": 50
        },
        "outputId": "cee1f34f-a835-4bc7-e712-41c2d4df6d34"
      },
      "outputs": [
        {
          "output_type": "execute_result",
          "data": {
            "text/plain": [
              "<IPython.core.display.Markdown object>"
            ],
            "text/markdown": "$$5 f(5,1,y^{5})$$"
          },
          "metadata": {},
          "execution_count": 34
        }
      ],
      "source": [
        "e = Expression.parse('x*f(x,1,y^x)')\n",
        "e = e.replace_all(x, 5)\n",
        "md(e.to_latex())"
      ]
    },
    {
      "cell_type": "markdown",
      "metadata": {
        "id": "4DVGH59A8wed"
      },
      "source": [
        "Use a wildcard, a variable ending in an underscore `_` to match to any subexpression"
      ]
    },
    {
      "cell_type": "code",
      "execution_count": null,
      "metadata": {
        "id": "DSDMEGWW8wed",
        "colab": {
          "base_uri": "https://localhost:8080/",
          "height": 50
        },
        "outputId": "55c13604-cf57-467e-9e95-d8d436b421f8"
      },
      "outputs": [
        {
          "output_type": "execute_result",
          "data": {
            "text/plain": [
              "<IPython.core.display.Markdown object>"
            ],
            "text/markdown": "$$f(6)$$"
          },
          "metadata": {},
          "execution_count": 35
        }
      ],
      "source": [
        "x_ = Expression.var('x_')\n",
        "\n",
        "e = f(5).replace_all(f(x_), f(x_ + 1))\n",
        "md(e.to_latex())"
      ]
    },
    {
      "cell_type": "markdown",
      "metadata": {
        "id": "3M4s6xpW8wed"
      },
      "source": [
        "Repeated wildcards must match to the same subexpressions"
      ]
    },
    {
      "cell_type": "code",
      "execution_count": null,
      "metadata": {
        "id": "7-hEtUKD8wed",
        "colab": {
          "base_uri": "https://localhost:8080/",
          "height": 50
        },
        "outputId": "978e5176-f94a-45c8-d2f8-d13c1bd04941"
      },
      "outputs": [
        {
          "output_type": "execute_result",
          "data": {
            "text/plain": [
              "<IPython.core.display.Markdown object>"
            ],
            "text/markdown": "$$f(1,3,4)$$"
          },
          "metadata": {},
          "execution_count": 36
        }
      ],
      "source": [
        "y_, z_, w_ = Expression.vars('y_', 'z_', 'w_')\n",
        "\n",
        "e = f(1,2,3,2,4).replace_all(f(x_,y_,z_,y_,w_), f(x_,z_,w_))\n",
        "md(e.to_latex())"
      ]
    },
    {
      "cell_type": "markdown",
      "metadata": {
        "id": "2M7h7bce8wed"
      },
      "source": [
        "Wildcards can match to multiple ranges / subexpressions"
      ]
    },
    {
      "cell_type": "code",
      "execution_count": null,
      "metadata": {
        "id": "Eruyi7Up8wed",
        "colab": {
          "base_uri": "https://localhost:8080/",
          "height": 50
        },
        "outputId": "c1345b89-8617-482e-962f-542860fa9517"
      },
      "outputs": [
        {
          "output_type": "execute_result",
          "data": {
            "text/plain": [
              "<IPython.core.display.Markdown object>"
            ],
            "text/markdown": "$$f(1,2,3)$$"
          },
          "metadata": {},
          "execution_count": 37
        }
      ],
      "source": [
        "e = f(1,2,3,4).replace_all(f(x_,4), f(x_))\n",
        "md(e.to_latex())"
      ]
    },
    {
      "cell_type": "markdown",
      "metadata": {
        "id": "T84KPuI18wed"
      },
      "source": [
        "Conditions can be set on wildcards"
      ]
    },
    {
      "cell_type": "code",
      "execution_count": null,
      "metadata": {
        "id": "Zw_XuzvT8wee",
        "colab": {
          "base_uri": "https://localhost:8080/",
          "height": 50
        },
        "outputId": "51ae865a-073a-4e18-f401-ce10fb4ab8f4"
      },
      "outputs": [
        {
          "output_type": "execute_result",
          "data": {
            "text/plain": [
              "<IPython.core.display.Markdown object>"
            ],
            "text/markdown": "$$f(1,4)+f(1,2,3)$$"
          },
          "metadata": {},
          "execution_count": 38
        }
      ],
      "source": [
        "e = (f(1,4) + f(1,2,3,4)).replace_all(f(x_,4), f(x_), x_.req_len(2, None)) # minimum length is 2\n",
        "md(e.to_latex())"
      ]
    },
    {
      "cell_type": "markdown",
      "metadata": {
        "id": "PtZtrgkW8wee"
      },
      "source": [
        "Conditions can be set by user-defined functions"
      ]
    },
    {
      "cell_type": "code",
      "execution_count": null,
      "metadata": {
        "id": "5calJIuA8wee",
        "colab": {
          "base_uri": "https://localhost:8080/",
          "height": 50
        },
        "outputId": "810048a1-f9af-49a2-cd9c-1424d1f8ff91"
      },
      "outputs": [
        {
          "output_type": "execute_result",
          "data": {
            "text/plain": [
              "<IPython.core.display.Markdown object>"
            ],
            "text/markdown": "$$f(1)$$"
          },
          "metadata": {},
          "execution_count": 39
        }
      ],
      "source": [
        "e = (f(1)*f(2)*f(3)).replace_all(f(x_), 1, x_.req(lambda m: m == 2 or m == 3))\n",
        "md(e.to_latex())"
      ]
    },
    {
      "cell_type": "markdown",
      "metadata": {
        "id": "_Uji1j4y8wee"
      },
      "source": [
        "Matches can be iterated over, like the `regex` module in Python"
      ]
    },
    {
      "cell_type": "code",
      "execution_count": null,
      "metadata": {
        "id": "sQDtjbbf8wee",
        "colab": {
          "base_uri": "https://localhost:8080/"
        },
        "outputId": "720aec76-cb7f-4abd-b29c-262bf09459bf"
      },
      "outputs": [
        {
          "output_type": "stream",
          "name": "stdout",
          "text": [
            "x^2 y+z\n",
            "x^3 y+z^2\n"
          ]
        }
      ],
      "source": [
        "from symbolica import Expression\n",
        "\n",
        "x, y, z, n_, x_ = Expression.vars('x', 'y', 'z', 'n_', 'x_')\n",
        "e = x**2*(y+z) + x**3*(y+z**2)\n",
        "\n",
        "# match returns a dictionary that maps every wildcard to its value\n",
        "coeff_list = [(m[n_], m[x_]) for m in e.match(x**n_*x_)]\n",
        "for (pow, content) in coeff_list:\n",
        "    print(x**pow, content)"
      ]
    },
    {
      "cell_type": "markdown",
      "metadata": {
        "id": "gJy4-o4M8wee"
      },
      "source": [
        "### Transformers\n",
        "\n",
        "The right-hand side can be used to apply arbitrarily complex operations after the wildcard substitution. For example:"
      ]
    },
    {
      "cell_type": "code",
      "execution_count": null,
      "metadata": {
        "id": "bqnWl2Su8wee",
        "colab": {
          "base_uri": "https://localhost:8080/",
          "height": 50
        },
        "outputId": "1aeb06b3-2f35-4342-b9c9-4aea46196eeb"
      },
      "outputs": [
        {
          "output_type": "execute_result",
          "data": {
            "text/plain": [
              "<IPython.core.display.Markdown object>"
            ],
            "text/markdown": "$$f(2 x+x^{2}+1)$$"
          },
          "metadata": {},
          "execution_count": 41
        }
      ],
      "source": [
        "e = f((x+1)**2).replace_all(f(x_), f(x_.transform().expand()))\n",
        "md(e.to_latex())\n"
      ]
    },
    {
      "cell_type": "markdown",
      "metadata": {
        "id": "_UtiYGXk8wee"
      },
      "source": [
        "Custom functions can be used as well"
      ]
    },
    {
      "cell_type": "code",
      "execution_count": null,
      "metadata": {
        "id": "mB6jkF9T8wee",
        "colab": {
          "base_uri": "https://localhost:8080/",
          "height": 49
        },
        "outputId": "834ed89e-53a0-4ac5-de70-f4a6cef69174"
      },
      "outputs": [
        {
          "output_type": "execute_result",
          "data": {
            "text/plain": [
              "<IPython.core.display.Markdown object>"
            ],
            "text/markdown": "$$4$$"
          },
          "metadata": {},
          "execution_count": 42
        }
      ],
      "source": [
        "e = f(2).replace_all(f(x_), x_.transform().map(lambda r: r**2))\n",
        "md(e.to_latex())"
      ]
    },
    {
      "cell_type": "markdown",
      "metadata": {
        "id": "XvZ3JpIz8wef"
      },
      "source": [
        "Below is a more complicated example that computes the color of the triangle-box-triangle in QCD"
      ]
    },
    {
      "cell_type": "code",
      "execution_count": null,
      "metadata": {
        "id": "O5-Qbac78wef",
        "colab": {
          "base_uri": "https://localhost:8080/",
          "height": 89
        },
        "outputId": "2b68173d-e57e-4797-d4a7-237d81abd6e6"
      },
      "outputs": [
        {
          "output_type": "stream",
          "name": "stdout",
          "text": [
            "-1/2*nc+1/4*nc^-1+1/4*nc^3\n",
            "16/3\n"
          ]
        },
        {
          "output_type": "execute_result",
          "data": {
            "text/plain": [
              "<IPython.core.display.Markdown object>"
            ],
            "text/markdown": "$$\\frac{1-2nc^{2}+nc^{4}}{4nc}$$"
          },
          "metadata": {},
          "execution_count": 43
        }
      ],
      "source": [
        "from symbolica import Expression\n",
        "\n",
        "nc, i, x_,y_,z_, w_, a_ = Expression.vars('nc', 'i', 'x_', 'y_', 'z_', 'w_', 'a_')\n",
        "T, f, trace = Expression.funs('T', 'f', 'trace')\n",
        "\n",
        "# tri-box-tri\n",
        "e = T(1,12)*T(12,11)*T(11,13,10)*T(10,9)*T(9,15,8)*T(8,7)*T(7,6)*T(6,5)*T(5,15,4)*T(4,3)*T(3,13,2)*T(2, 1)\n",
        "\n",
        "# collect the color string into a trace\n",
        "last_e = T()\n",
        "while last_e != e:\n",
        "    last_e = e\n",
        "    e = e.replace_all(T(x_,z_)*T(z_, w_), T(x_,w_), z_.req_len(1,1))\n",
        "\n",
        "e = e.replace_all(T(x_,y_,x_), trace(y_), x_.req_len(1,1))\n",
        "\n",
        "# requirements for the patterns below\n",
        "req = x_.req_len(0,None) & y_.req_len(1,1) & z_.req_len(0,None) & w_.req_len(0,None)\n",
        "\n",
        "last_e = T()\n",
        "while last_e != e:\n",
        "    last_e = e\n",
        "    e = e.replace_all(trace(), nc)\n",
        "    e = e.replace_all(trace(x_), 0, x_.req_len(1,1))\n",
        "    e = e.replace_all(trace(x_,y_,z_,y_,w_), trace(x_,w_)*trace(z_) / 2 - trace(x_,z_,w_) / 2 / nc, req)\n",
        "    e = e.replace_all(f(x_,y_,z_), -2 * i * trace(x_,y_,z_) + 2 * i * trace(z_,y_,x_))\n",
        "    e = e.replace_all(trace(x_,y_,z_) * trace(w_,y_,a_), trace(x_,a_,w_,z_) / 2  - trace(x_,z_) * trace(w_,a_) / 2 / nc, req)\n",
        "\n",
        "print(e.expand())\n",
        "print(e.replace_all(nc, 3))\n",
        "md('$$' + e.to_rational_polynomial().to_latex() + '$$')"
      ]
    },
    {
      "cell_type": "markdown",
      "metadata": {
        "id": "nGQbw2DG8wef"
      },
      "source": [
        "### Programmable patterns\n",
        "\n",
        "Python can be used to make programmable patterns. In the following example we will apply it to compute a trace using the following simplification algoritm:\n",
        "\n",
        "\n",
        "$$Tr(\\mu_1,\\ldots,\\mu_n) = \\sum_{k=2}^n (-1)^k g(\\mu_1,\\mu_k) Tr(\\mu_2,\\ldots,\\mu_{k-1},\\mu_{k+1},\\ldots \\mu_n)$$"
      ]
    },
    {
      "cell_type": "code",
      "execution_count": null,
      "metadata": {
        "id": "p59tkXSo8wef",
        "colab": {
          "base_uri": "https://localhost:8080/"
        },
        "outputId": "5aa16334-8671-47a5-d539-5a29d067e6f4"
      },
      "outputs": [
        {
          "output_type": "stream",
          "name": "stdout",
          "text": [
            "\t 4*d(p1,p2)*d(p3,p4)*d(p5,p6)\n",
            "\t-4*d(p1,p2)*d(p3,p5)*d(p4,p6)\n",
            "\t+4*d(p1,p2)*d(p3,p6)*d(p4,p5)\n",
            "\t-4*d(p1,p3)*d(p2,p4)*d(p5,p6)\n",
            "\t+4*d(p1,p3)*d(p2,p5)*d(p4,p6)\n",
            "\t-4*d(p1,p3)*d(p2,p6)*d(p4,p5)\n",
            "\t+4*d(p1,p4)*d(p2,p3)*d(p5,p6)\n",
            "\t-4*d(p1,p4)*d(p2,p5)*d(p3,p6)\n",
            "\t+4*d(p1,p4)*d(p2,p6)*d(p3,p5)\n",
            "\t-4*d(p1,p5)*d(p2,p3)*d(p4,p6)\n",
            "\t+4*d(p1,p5)*d(p2,p4)*d(p3,p6)\n",
            "\t-4*d(p1,p5)*d(p2,p6)*d(p3,p4)\n",
            "\t+4*d(p1,p6)*d(p2,p3)*d(p4,p5)\n",
            "\t-4*d(p1,p6)*d(p2,p4)*d(p3,p5)\n",
            "\t+4*d(p1,p6)*d(p2,p5)*d(p3,p4)\n"
          ]
        }
      ],
      "source": [
        "from symbolica import Expression\n",
        "\n",
        "x_ = Expression.var('x_')\n",
        "p = Expression.vars(*['p' + str(i + 1) for i in range(10)])\n",
        "p_ = Expression.vars(*['p' + str(i + 1) + '_' for i in range(10)])\n",
        "f = Expression.fun('f')\n",
        "d = Expression.fun('d', is_symmetric=True)\n",
        "\n",
        "e = f(*p[:6])\n",
        "\n",
        "# find the maximum chain length\n",
        "max_length = 0\n",
        "for m in e.match(f(x_)):\n",
        "    max_length = max(max_length, len(m[x_]))\n",
        "\n",
        "for l in range(max_length,0,-1):\n",
        "    if l % 2 == 1:\n",
        "        e = e.replace_all(f(*p_[:l]), 0) # odd trace is 0\n",
        "    else:\n",
        "        e = e.replace_all(f(*p_[:l]), sum((-1)**(k+1) * d(p_[0], p_[k]) * f(*p_[1:k], *p_[k+1:l]) for k in range(1,l))).expand()\n",
        "e = e.replace_all(f(), 4)\n",
        "print('\\t ' + e.pretty_str(terms_on_new_line=True))"
      ]
    },
    {
      "cell_type": "markdown",
      "metadata": {
        "id": "nzs42Y0A8wef"
      },
      "source": [
        "## Features"
      ]
    },
    {
      "cell_type": "markdown",
      "metadata": {
        "id": "2YErbu3V8wef"
      },
      "source": [
        "Derivatives"
      ]
    },
    {
      "cell_type": "code",
      "execution_count": null,
      "metadata": {
        "id": "E1IQN6Wx8wef",
        "colab": {
          "base_uri": "https://localhost:8080/",
          "height": 50
        },
        "outputId": "baaa3149-d478-470a-8820-2265d9756840"
      },
      "outputs": [
        {
          "output_type": "execute_result",
          "data": {
            "text/plain": [
              "<IPython.core.display.Markdown object>"
            ],
            "text/markdown": "$$-y (x y+1)^{-2}$$"
          },
          "metadata": {},
          "execution_count": 17
        }
      ],
      "source": [
        "y = Expression.var('y')\n",
        "e = 1/(x*y+1)\n",
        "e = e.derivative(x)\n",
        "md(e.to_latex())"
      ]
    },
    {
      "cell_type": "markdown",
      "metadata": {
        "id": "zSa8mG4D8wek"
      },
      "source": [
        "Symbolica can process a huge expression one term at a time, in parallel. This means that the expression does not have to be in memory (similar to FORM)."
      ]
    },
    {
      "cell_type": "code",
      "execution_count": null,
      "metadata": {
        "id": "Ew85dt-N8wek",
        "colab": {
          "base_uri": "https://localhost:8080/"
        },
        "outputId": "6a82d7c5-c4e7-485e-d9f5-9c253ce3d749"
      },
      "outputs": [
        {
          "output_type": "stream",
          "name": "stdout",
          "text": [
            "282475249\n"
          ]
        }
      ],
      "source": [
        "from symbolica import Transformer\n",
        "\n",
        "e = ((1+x)**10).expand()\n",
        "r = e.map(Transformer().replace_all(x, 6))\n",
        "print(r)"
      ]
    },
    {
      "cell_type": "markdown",
      "metadata": {
        "id": "v53whSfQ8wek"
      },
      "source": [
        "## Polynomials"
      ]
    },
    {
      "cell_type": "markdown",
      "source": [
        "Symbolic has world-class rational polynomial arithmetic. Polynomials can easily be constructed:"
      ],
      "metadata": {
        "id": "SieR6pILqEi-"
      }
    },
    {
      "cell_type": "code",
      "execution_count": null,
      "metadata": {
        "id": "pYfwpkiS8wek",
        "colab": {
          "base_uri": "https://localhost:8080/",
          "height": 50
        },
        "outputId": "60ebf236-bcb9-46af-9975-8fa655243202"
      },
      "outputs": [
        {
          "output_type": "execute_result",
          "data": {
            "text/plain": [
              "<IPython.core.display.Markdown object>"
            ],
            "text/markdown": "$$1+y^{3}+y^{4}+2x+3xy^{2}+4x^{2}y+3x^{2}y^{2}+x^{3}+6x^{3}y+3x^{4}+3x^{4}y+3x^{5}+x^{6}$$"
          },
          "metadata": {},
          "execution_count": 45
        }
      ],
      "source": [
        "from symbolica import Expression, Polynomial\n",
        "x, y = Expression.vars('x', 'y')\n",
        "e = ((x + y + x**2)**3).expand()\n",
        "p = e.to_polynomial() + Polynomial.parse('x^2*y + 1 + 2*x + y^4', ['x', 'y'])\n",
        "md('$$' + p.to_latex() + '$$')"
      ]
    },
    {
      "cell_type": "markdown",
      "metadata": {
        "id": "vElDHb2B8wek"
      },
      "source": [
        "Rational polynomial arithmetic is supported too:"
      ]
    },
    {
      "cell_type": "code",
      "execution_count": null,
      "metadata": {
        "id": "ZF8cZPU78wek",
        "colab": {
          "base_uri": "https://localhost:8080/",
          "height": 55
        },
        "outputId": "21df6f27-68ad-40e6-b631-cb3fbe970839"
      },
      "outputs": [
        {
          "output_type": "execute_result",
          "data": {
            "text/plain": [
              "<IPython.core.display.Markdown object>"
            ],
            "text/markdown": "$$\\frac{1+y+2x+2x^{2}+x^{3}}{x+xy+x^{2}}$$"
          },
          "metadata": {},
          "execution_count": 20
        }
      ],
      "source": [
        "from symbolica import RationalPolynomial\n",
        "p = RationalPolynomial.parse('1/x+(1+x)^2/(1+x+y)', ['x', 'y'])\n",
        "md('$$' + p.to_latex() + '$$')"
      ]
    },
    {
      "cell_type": "markdown",
      "metadata": {
        "id": "g-IGpz1o8wek"
      },
      "source": [
        "Computing the greatest common divisor of polynomials is an expensive operation. Below Symbolica does it in a few seconds, whereas other computer algebra packages take more than a minute."
      ]
    },
    {
      "cell_type": "code",
      "execution_count": null,
      "metadata": {
        "id": "ygzGSzum8wek",
        "colab": {
          "base_uri": "https://localhost:8080/"
        },
        "outputId": "f0f02d00-ff88-42f8-db42-b5fb197d8164"
      },
      "outputs": [
        {
          "output_type": "stream",
          "name": "stdout",
          "text": [
            "0\n"
          ]
        }
      ],
      "source": [
        "a = Expression.parse('(1 + 3*x1 + 5*x2 + 7*x3 + 9*x4 + 11*x5 + 13*x6 + 15*x7)^7 - 1').to_rational_polynomial()\n",
        "b = Expression.parse('(1 - 3*x1 - 5*x2 - 7*x3 + 9*x4 - 11*x5 - 13*x6 + 15*x7)^7 + 1').to_rational_polynomial()\n",
        "g = Expression.parse('(1 + 3*x1 + 5*x2 + 7*x3 + 9*x4 + 11*x5 + 13*x6 - 15*x7)^7 + 3').to_rational_polynomial()\n",
        "ag = a * g\n",
        "bg = b * g\n",
        "gcd = ag.gcd(bg) - g\n",
        "print(gcd)"
      ]
    },
    {
      "cell_type": "markdown",
      "metadata": {
        "id": "7Eg-BBKw8wek"
      },
      "source": [
        "### Fast evaluation\n",
        "\n",
        "Symbolica can write a polynomial in an optimized form that allows for fast evaluation. It can even produce C++ output that evaluates the polynomial."
      ]
    },
    {
      "cell_type": "code",
      "execution_count": null,
      "metadata": {
        "id": "dfQdfIA48wek",
        "colab": {
          "base_uri": "https://localhost:8080/"
        },
        "outputId": "28cfb1fc-e336-48b0-c776-f63b5a197343"
      },
      "outputs": [
        {
          "output_type": "stream",
          "name": "stdout",
          "text": [
            "[64.0, 4096.0]\n"
          ]
        }
      ],
      "source": [
        "from symbolica import Expression\n",
        "x, y = Expression.vars('x', 'y')\n",
        "e = ((x + y + x**2)**3).expand().to_polynomial()\n",
        "eval = e.optimize() # to_file='test2.cpp'\n",
        "\n",
        "print(eval.evaluate([[1., 2.], [3. ,4.]]))"
      ]
    },
    {
      "cell_type": "markdown",
      "metadata": {
        "id": "fISIXh9v8wel"
      },
      "source": [
        "If chosen to generate a file, it produces output such as:\n",
        "\n",
        "```cpp\n",
        "#include <iostream>\n",
        "\n",
        "template<typename T>\n",
        "T evaluate(T x,T y) {\n",
        "\tT Z0,Z1,Z2,Z3,Z4,Z5,Z6,Z7;\n",
        "\tZ0 = x;\n",
        "\tZ1 = y;\n",
        "\tZ2 = T(3);\n",
        "\tZ3 = T(1);\n",
        "\tZ4 = T(6);\n",
        "\tZ5 = Z0+Z2;\n",
        "\tZ5 = Z0*Z5;\n",
        "\tZ6 = Z1+Z3;\n",
        "\tZ6 = Z2*Z6;\n",
        "\tZ5 = Z5+Z6;\n",
        "\tZ5 = Z0*Z5;\n",
        "\tZ7 = Z1*Z4;\n",
        "\tZ5 = Z3+Z5+Z7;\n",
        "\tZ5 = Z0*Z5;\n",
        "\tZ6 = Z1*Z6;\n",
        "\tZ5 = Z5+Z6;\n",
        "\tZ5 = Z0*Z5;\n",
        "\tZ6 = Z1*Z1;\n",
        "\tZ7 = Z2*Z6;\n",
        "\tZ5 = Z5+Z7;\n",
        "\tZ5 = Z0*Z5;\n",
        "\tZ6 = Z1*Z6;\n",
        "\tZ5 = Z5+Z6;\n",
        "\treturn Z5;\n",
        "}\n",
        "\n",
        "int main() {\n",
        "\tstd::cout << evaluate<double>(0.25,0.5) << std::endl;\n",
        "}\n",
        "```"
      ]
    },
    {
      "cell_type": "markdown",
      "metadata": {
        "id": "Sz1nOzso8wel"
      },
      "source": [
        "## Numerical integration"
      ]
    },
    {
      "cell_type": "markdown",
      "metadata": {
        "id": "Jv3q1BbE8wel"
      },
      "source": [
        "Symbolica uses the Vegas algorithm to numerically integrate in a continuous grid"
      ]
    },
    {
      "cell_type": "code",
      "execution_count": null,
      "metadata": {
        "id": "0suHsxLi8wel"
      },
      "outputs": [],
      "source": [
        "from symbolica import NumericalIntegrator\n",
        "\n",
        "def integrand(samples):\n",
        "    res = []\n",
        "    for sample in samples:\n",
        "        res.append(sample.c[0]**2+sample.c[1]**2)\n",
        "    return res\n",
        "\n",
        "avg, err, chi_sq = NumericalIntegrator.continuous(2).integrate(integrand, min_error = 0.0007)"
      ]
    },
    {
      "cell_type": "markdown",
      "metadata": {
        "id": "bg6j_7qJ8wel"
      },
      "source": [
        "### Multi-channeling\n",
        "\n",
        "Symbolica supports multi-channeling, by allowing to nest discrete layers and continuous grids."
      ]
    },
    {
      "cell_type": "code",
      "execution_count": null,
      "metadata": {
        "id": "QoBGhR5w8wel"
      },
      "outputs": [],
      "source": [
        "from symbolica import NumericalIntegrator, Sample\n",
        "from math import sin, cos\n",
        "def integrand(samples):\n",
        "    res = []\n",
        "    for sample in samples:\n",
        "        if sample.d[0] == 0:\n",
        "            res.append(sin(sample.c[0]))\n",
        "        else:\n",
        "            res.append(cos(sample.c[0]))\n",
        "    return res\n",
        "\n",
        "integrator = NumericalIntegrator.discrete(\n",
        "    [NumericalIntegrator.continuous(1), NumericalIntegrator.continuous(1)])\n",
        "avg, err, chi_sq = integrator.integrate(integrand, min_error = 0.003)"
      ]
    },
    {
      "cell_type": "markdown",
      "metadata": {
        "id": "nw6GNJOY8wel"
      },
      "source": [
        "### More control\n",
        "\n",
        "You can also do the sample-update loop yourself to have full control over the integration (and its parallelization)"
      ]
    },
    {
      "cell_type": "code",
      "execution_count": null,
      "metadata": {
        "id": "d-sVn4iL8wel",
        "colab": {
          "base_uri": "https://localhost:8080/"
        },
        "outputId": "8a6d1660-a019-4192-c424-5d6898e6aa92"
      },
      "outputs": [
        {
          "output_type": "stream",
          "name": "stdout",
          "text": [
            "Iteration 1: 0.67242 +- 0.00421607, chi=0.0\n",
            "Iteration 2: 0.667966 +- 0.00197555, chi=1.43\n",
            "Iteration 3: 0.666429 +- 0.00120626, chi=2.4\n",
            "Iteration 4: 0.66694 +- 0.000874981, chi=2.77\n",
            "Iteration 5: 0.666571 +- 0.000705219, chi=3.28\n",
            "Iteration 6: 0.66681 +- 0.000600952, chi=3.7\n",
            "Iteration 7: 0.666414 +- 0.000527103, chi=5.58\n",
            "Iteration 8: 0.666602 +- 0.000469894, chi=6.2\n",
            "Iteration 9: 0.666546 +- 0.000427166, chi=6.28\n",
            "Iteration 10: 0.666811 +- 0.000392011, chi=8.73\n"
          ]
        }
      ],
      "source": [
        "def integrand(samples):\n",
        "    res = []\n",
        "    for sample in samples:\n",
        "        res.append(sample.c[0]**2+sample.c[1]**2)\n",
        "    return res\n",
        "\n",
        "integrator = NumericalIntegrator.continuous(2)\n",
        "\n",
        "for i in range(10):\n",
        "    samples = integrator.sample(10000 + i * 1000)\n",
        "    res = integrand(samples)\n",
        "    integrator.add_training_samples(samples, res)\n",
        "    avg, err, chi_sq = integrator.update(1.5)\n",
        "    print('Iteration {}: {:.6} +- {:.6}, chi={:.3}'.format(i + 1, avg, err, chi_sq))"
      ]
    },
    {
      "cell_type": "markdown",
      "metadata": {
        "id": "AZDGWSoB8wel"
      },
      "source": []
    }
  ],
  "metadata": {
    "kernelspec": {
      "display_name": "Python 3",
      "name": "python3"
    },
    "language_info": {
      "name": "python"
    },
    "orig_nbformat": 4,
    "colab": {
      "provenance": [],
      "cell_execution_strategy": "setup",
      "collapsed_sections": [
        "oP-gNosu8wea",
        "tBbqLffE8web",
        "hRPrBx278wed",
        "nzs42Y0A8wef",
        "Sz1nOzso8wel"
      ],
      "include_colab_link": true
    }
  },
  "nbformat": 4,
  "nbformat_minor": 0
}